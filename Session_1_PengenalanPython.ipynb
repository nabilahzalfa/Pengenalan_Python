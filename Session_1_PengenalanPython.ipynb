{
  "nbformat": 4,
  "nbformat_minor": 0,
  "metadata": {
    "colab": {
      "provenance": []
    },
    "kernelspec": {
      "name": "python3",
      "display_name": "Python 3"
    },
    "language_info": {
      "name": "python"
    }
  },
  "cells": [
    {
      "cell_type": "markdown",
      "source": [
        "# Pendahuluan Python"
      ],
      "metadata": {
        "id": "As6uUuEZnF9A"
      }
    },
    {
      "cell_type": "markdown",
      "source": [
        "## Variabel"
      ],
      "metadata": {
        "id": "T3Cmh57MoU33"
      }
    },
    {
      "cell_type": "code",
      "source": [
        "nama = 'Tony Stark'\n",
        "umur = 30\n",
        "tinggi = 170"
      ],
      "metadata": {
        "id": "0PbXi3ptnHWn"
      },
      "execution_count": 10,
      "outputs": []
    },
    {
      "cell_type": "code",
      "source": [
        "nama"
      ],
      "metadata": {
        "colab": {
          "base_uri": "https://localhost:8080/",
          "height": 36
        },
        "id": "_sDm0xGeorSd",
        "outputId": "4c4cfda5-d92b-4f0f-f615-75fb6b1c7478"
      },
      "execution_count": 12,
      "outputs": [
        {
          "output_type": "execute_result",
          "data": {
            "text/plain": [
              "'Tony Stark'"
            ],
            "application/vnd.google.colaboratory.intrinsic+json": {
              "type": "string"
            }
          },
          "metadata": {},
          "execution_count": 12
        }
      ]
    },
    {
      "cell_type": "code",
      "source": [
        "print(nama)"
      ],
      "metadata": {
        "colab": {
          "base_uri": "https://localhost:8080/"
        },
        "id": "YbJzSiT4oeEK",
        "outputId": "05ef94e9-dfe8-497b-997e-d8810f9d5f2e"
      },
      "execution_count": 13,
      "outputs": [
        {
          "output_type": "stream",
          "name": "stdout",
          "text": [
            "Tony Stark\n"
          ]
        }
      ]
    },
    {
      "cell_type": "markdown",
      "source": [
        "## Print"
      ],
      "metadata": {
        "id": "ykHOVCh0pWMq"
      }
    },
    {
      "cell_type": "code",
      "source": [
        "# versi 1 \n",
        "print('nama saya', nama, 'berumur', umur, 'tahun dengan tinggi', tinggi)\n",
        "\n",
        "# versi 2\n",
        "print('nama saya {} berumur {} tahun dengan tinggi {}'.format(nama, umur, tinggi))\n",
        "\n",
        "# versi 3\n",
        "print(f'nama saya {nama} berumur {umur} tahun dengan tinggi {tinggi}')"
      ],
      "metadata": {
        "colab": {
          "base_uri": "https://localhost:8080/"
        },
        "id": "WzAu1J0rpM5R",
        "outputId": "208df1da-d625-43f1-cf06-31978cb608aa"
      },
      "execution_count": 17,
      "outputs": [
        {
          "output_type": "stream",
          "name": "stdout",
          "text": [
            "nama saya Tony Stark berumur 30 tahun dengan tinggi 170\n",
            "nama saya Tony Stark berumur 30 tahun dengan tinggi 170\n",
            "nama saya Tony Stark berumur 30 tahun dengan tinggi 170\n"
          ]
        }
      ]
    },
    {
      "cell_type": "markdown",
      "source": [
        "## Tipe Data Dasar (Primitive)"
      ],
      "metadata": {
        "id": "qtdxKDQTrEg3"
      }
    },
    {
      "cell_type": "markdown",
      "source": [
        "### String"
      ],
      "metadata": {
        "id": "AYkip60dw59h"
      }
    },
    {
      "cell_type": "code",
      "source": [
        "nama_customer = 'Iron Man'\n",
        "nama_customer_2 = 'Hulk'\n",
        "\n",
        "print(nama_customer)\n",
        "print(nama_customer_2)"
      ],
      "metadata": {
        "colab": {
          "base_uri": "https://localhost:8080/"
        },
        "id": "R0oNAf_GpumB",
        "outputId": "87e13f1f-9050-46ac-cbaf-1ca3268ddf2d"
      },
      "execution_count": 21,
      "outputs": [
        {
          "output_type": "stream",
          "name": "stdout",
          "text": [
            "Iron Man\n",
            "Hulk\n"
          ]
        }
      ]
    },
    {
      "cell_type": "code",
      "source": [
        "# Cek tipe data\n",
        "print(type(nama_customer))\n",
        "print(type(nama_customer_2))"
      ],
      "metadata": {
        "colab": {
          "base_uri": "https://localhost:8080/"
        },
        "id": "9wGSR0horQcP",
        "outputId": "e74bb277-7ace-4471-cbe4-c815ee60e0fc"
      },
      "execution_count": 24,
      "outputs": [
        {
          "output_type": "stream",
          "name": "stdout",
          "text": [
            "<class 'str'>\n",
            "<class 'str'>\n"
          ]
        }
      ]
    },
    {
      "cell_type": "code",
      "source": [
        "# Casting string data type\n",
        "no_ktp = str(123321456)\n",
        "print(type(no_ktp))"
      ],
      "metadata": {
        "colab": {
          "base_uri": "https://localhost:8080/"
        },
        "id": "s6TZpLdjxV5R",
        "outputId": "a2783309-700a-41d3-dff7-74fb4fadab2f"
      },
      "execution_count": 26,
      "outputs": [
        {
          "output_type": "stream",
          "name": "stdout",
          "text": [
            "<class 'str'>\n"
          ]
        }
      ]
    },
    {
      "cell_type": "markdown",
      "source": [
        "### Numeric"
      ],
      "metadata": {
        "id": "RY4dXMpXyIDP"
      }
    },
    {
      "cell_type": "code",
      "source": [
        "# Integer\n",
        "jumlah_motor = 250\n",
        "print(type(jumlah_motor)) "
      ],
      "metadata": {
        "colab": {
          "base_uri": "https://localhost:8080/"
        },
        "id": "pAhAp-T_yFr8",
        "outputId": "4f2a2066-ff83-4899-eac6-e6a73ad9b217"
      },
      "execution_count": 28,
      "outputs": [
        {
          "output_type": "stream",
          "name": "stdout",
          "text": [
            "<class 'int'>\n"
          ]
        }
      ]
    },
    {
      "cell_type": "code",
      "source": [
        "# Float\n",
        "berat_motor = 4567.5\n",
        "print(type(berat_motor))"
      ],
      "metadata": {
        "colab": {
          "base_uri": "https://localhost:8080/"
        },
        "id": "0SSpR63Lxt3-",
        "outputId": "26cfa27b-8de5-49fb-eef0-6b08cb840e00"
      },
      "execution_count": 29,
      "outputs": [
        {
          "output_type": "stream",
          "name": "stdout",
          "text": [
            "<class 'float'>\n"
          ]
        }
      ]
    },
    {
      "cell_type": "code",
      "source": [
        "# Casting int ke float\n",
        "ukuran_sepatu = float(30)\n",
        "print(type(ukuran_sepatu))"
      ],
      "metadata": {
        "colab": {
          "base_uri": "https://localhost:8080/"
        },
        "id": "L_6yBDrjyn7h",
        "outputId": "192f2d24-d896-4b39-96ca-6ed97d1caf35"
      },
      "execution_count": 30,
      "outputs": [
        {
          "output_type": "stream",
          "name": "stdout",
          "text": [
            "<class 'float'>\n"
          ]
        }
      ]
    },
    {
      "cell_type": "markdown",
      "source": [
        "### Boolean"
      ],
      "metadata": {
        "id": "0BQKCjPizFYJ"
      }
    },
    {
      "cell_type": "code",
      "source": [
        "tampan = True\n",
        "print(type(tampan))"
      ],
      "metadata": {
        "colab": {
          "base_uri": "https://localhost:8080/"
        },
        "id": "HKqFEPIDy4sI",
        "outputId": "63b3ae11-4f44-4231-c77d-93ea77ed4218"
      },
      "execution_count": 31,
      "outputs": [
        {
          "output_type": "stream",
          "name": "stdout",
          "text": [
            "<class 'bool'>\n"
          ]
        }
      ]
    },
    {
      "cell_type": "code",
      "source": [
        "x = 100\n",
        "y = 20\n",
        "\n",
        "print(x > y)\n",
        "print(x < y)"
      ],
      "metadata": {
        "colab": {
          "base_uri": "https://localhost:8080/"
        },
        "id": "WbGhDdu-zNrK",
        "outputId": "92a484a4-6d0e-4a97-e67d-4b677d48abd5"
      },
      "execution_count": 32,
      "outputs": [
        {
          "output_type": "stream",
          "name": "stdout",
          "text": [
            "True\n",
            "False\n"
          ]
        }
      ]
    },
    {
      "cell_type": "code",
      "source": [
        "if x < y:\n",
        "  print(f'{x} lebih kecil dari {y}')\n",
        "else:\n",
        "  print(f'{x} lebih besar dari {y}')"
      ],
      "metadata": {
        "colab": {
          "base_uri": "https://localhost:8080/"
        },
        "id": "EF-ApL6gzcuK",
        "outputId": "7f58467b-2c4f-40e5-e26b-958406ce8fa1"
      },
      "execution_count": 33,
      "outputs": [
        {
          "output_type": "stream",
          "name": "stdout",
          "text": [
            "100 lebih besar dari 20\n"
          ]
        }
      ]
    },
    {
      "cell_type": "markdown",
      "source": [
        "## Operasi Dasar"
      ],
      "metadata": {
        "id": "Z8B0kMUu0pUy"
      }
    },
    {
      "cell_type": "markdown",
      "source": [
        "### Arithmetic"
      ],
      "metadata": {
        "id": "9il5EzFv0tgV"
      }
    },
    {
      "cell_type": "code",
      "source": [
        "a = 21\n",
        "b = 2\n",
        "\n",
        "print(a / b)\n",
        "print(a % b)\n",
        "print(a // b)"
      ],
      "metadata": {
        "colab": {
          "base_uri": "https://localhost:8080/"
        },
        "id": "IcFc0g-Bz0v9",
        "outputId": "7ca76d1d-591c-4ba5-8f73-de95fd7e0da3"
      },
      "execution_count": 36,
      "outputs": [
        {
          "output_type": "stream",
          "name": "stdout",
          "text": [
            "10.5\n",
            "1\n",
            "10\n"
          ]
        }
      ]
    },
    {
      "cell_type": "code",
      "source": [
        "# use case modulus\n",
        "n_hari = 1500\n",
        "hari_kedepan = n_hari & 7\n",
        "print(hari_kedepan)"
      ],
      "metadata": {
        "colab": {
          "base_uri": "https://localhost:8080/"
        },
        "id": "vomRMf4H07ES",
        "outputId": "02db4024-28ec-4a45-c401-fcb0c2a9d6dc"
      },
      "execution_count": 38,
      "outputs": [
        {
          "output_type": "stream",
          "name": "stdout",
          "text": [
            "4\n"
          ]
        }
      ]
    },
    {
      "cell_type": "code",
      "source": [
        "# use case floor division dan modulus\n",
        "jumlah_detik = 54050\n",
        "jam = jumlah_detik // 3600\n",
        "sisa_detik = jumlah_detik % 3600\n",
        "menit = sisa_detik // 60\n",
        "sisa_detik = sisa_detik % 60\n",
        "\n",
        "print(f'{jumlah_detik} detik sama dengan {jam} jam {menit} menit {sisa_detik} detik')"
      ],
      "metadata": {
        "colab": {
          "base_uri": "https://localhost:8080/"
        },
        "id": "lYaZGsoR14Dc",
        "outputId": "1d54d8a3-07c7-466c-cf2c-27a3d85106cb"
      },
      "execution_count": 40,
      "outputs": [
        {
          "output_type": "stream",
          "name": "stdout",
          "text": [
            "54050 detik sama dengan 15 jam 0 menit 50 detik\n"
          ]
        }
      ]
    },
    {
      "cell_type": "markdown",
      "source": [
        "#### Exercise"
      ],
      "metadata": {
        "id": "3aMo5l9k3ESp"
      }
    },
    {
      "cell_type": "code",
      "source": [
        "# kita menjual barang seharga 40000\n",
        "# barang telah terjual 250 pcs\n",
        "# hitung total revenue\n",
        "# hitung average revenue (total revenue / quantity)\n",
        "price = 40000\n",
        "quantity = 250\n",
        "total_revenue = price * quantity\n",
        "avg_revenue = total_revenue / quantity\n",
        "\n",
        "print(total_revenue)\n",
        "print(avg_revenue)"
      ],
      "metadata": {
        "colab": {
          "base_uri": "https://localhost:8080/"
        },
        "id": "dD0k6zom2s2l",
        "outputId": "234578ec-9b2c-4c0f-d63d-0f4520bdba6d"
      },
      "execution_count": 41,
      "outputs": [
        {
          "output_type": "stream",
          "name": "stdout",
          "text": [
            "10000000\n",
            "40000.0\n"
          ]
        }
      ]
    },
    {
      "cell_type": "code",
      "source": [
        "# rumus pythagoras c^2 = a^2 + b^2\n",
        "# diketahui a = 3, b = 4\n",
        "# berapa nilai c\n",
        "# nilai c = akar(a^2 + b^2)\n",
        "\n",
        "a = 3\n",
        "b = 4\n",
        "\n",
        "c = (a**2 + b**2)**(1/2)\n",
        "print('c: ', c)\n",
        "\n"
      ],
      "metadata": {
        "colab": {
          "base_uri": "https://localhost:8080/"
        },
        "id": "sL82zQFg5ZK6",
        "outputId": "c652d7f1-e76b-4121-ed2f-9ca39d8975a7"
      },
      "execution_count": 42,
      "outputs": [
        {
          "output_type": "stream",
          "name": "stdout",
          "text": [
            "c:  5.0\n"
          ]
        }
      ]
    },
    {
      "cell_type": "code",
      "source": [
        "from math import sqrt\n",
        "c = sqrt(a**2 + b**2)\n",
        "c"
      ],
      "metadata": {
        "colab": {
          "base_uri": "https://localhost:8080/"
        },
        "id": "-nkfeQx07Ozc",
        "outputId": "ff775471-772a-4f89-fba4-ba8f01fbb1b3"
      },
      "execution_count": 43,
      "outputs": [
        {
          "output_type": "execute_result",
          "data": {
            "text/plain": [
              "5.0"
            ]
          },
          "metadata": {},
          "execution_count": 43
        }
      ]
    },
    {
      "cell_type": "markdown",
      "source": [
        "### Comparison"
      ],
      "metadata": {
        "id": "UPL2x72h8DLB"
      }
    },
    {
      "cell_type": "code",
      "source": [
        "x = 15\n",
        "y = 6\n",
        "\n",
        "print(x == y)\n",
        "print(x != y)\n",
        "print(x > y)\n",
        "print(x < y)"
      ],
      "metadata": {
        "colab": {
          "base_uri": "https://localhost:8080/"
        },
        "id": "ArNdDiza7e-O",
        "outputId": "26fbc7d3-5313-4933-b051-df241af6d520"
      },
      "execution_count": 48,
      "outputs": [
        {
          "output_type": "stream",
          "name": "stdout",
          "text": [
            "False\n",
            "True\n",
            "True\n",
            "False\n"
          ]
        }
      ]
    },
    {
      "cell_type": "markdown",
      "source": [
        "### Logical Operator"
      ],
      "metadata": {
        "id": "azlQUlcP82la"
      }
    },
    {
      "cell_type": "code",
      "source": [
        "x = 15\n",
        "y = 6\n",
        "\n",
        "# and\n",
        "print(x > y and x == 15)\n",
        "\n",
        "# or\n",
        "print(x > y or x == 1000)\n",
        "\n",
        "# not\n",
        "print(not(x > y or x == 1000))"
      ],
      "metadata": {
        "colab": {
          "base_uri": "https://localhost:8080/"
        },
        "id": "MZ20U-zC71J2",
        "outputId": "3a30287f-2720-4fde-d5f7-2a82dc3486bb"
      },
      "execution_count": 52,
      "outputs": [
        {
          "output_type": "stream",
          "name": "stdout",
          "text": [
            "True\n",
            "True\n",
            "False\n"
          ]
        }
      ]
    },
    {
      "cell_type": "code",
      "source": [
        "# banyak logical\n",
        "print(((x > y and x == 15) and x != 6) and y == 6)"
      ],
      "metadata": {
        "colab": {
          "base_uri": "https://localhost:8080/"
        },
        "id": "X3BJIdOw9IKc",
        "outputId": "c1cbcbd1-027f-42ad-87e3-f39228fbc5db"
      },
      "execution_count": 56,
      "outputs": [
        {
          "output_type": "stream",
          "name": "stdout",
          "text": [
            "True\n"
          ]
        }
      ]
    },
    {
      "cell_type": "markdown",
      "source": [
        "### Operasi pada string"
      ],
      "metadata": {
        "id": "uZL_AMW4-vbv"
      }
    },
    {
      "cell_type": "code",
      "source": [
        "# Operasi +\n",
        "nama_depan = 'tony'\n",
        "spasi = ' '\n",
        "nama_belakang = 'stark'\n",
        "nama_lengkap = nama_depan + spasi + nama_belakang\n",
        "print(nama_lengkap)\n"
      ],
      "metadata": {
        "colab": {
          "base_uri": "https://localhost:8080/"
        },
        "id": "U8aK07Jz9rAq",
        "outputId": "3ce1a2e1-159d-45b9-c89b-1b21029122d8"
      },
      "execution_count": 60,
      "outputs": [
        {
          "output_type": "stream",
          "name": "stdout",
          "text": [
            "tony stark\n"
          ]
        }
      ]
    },
    {
      "cell_type": "code",
      "source": [
        "# fungsi string\n",
        "kota = \"Jakarta\"\n",
        "kota_kecil = kota.lower()\n",
        "kota_besar = kota.upper()\n",
        "\n",
        "print(kota_kecil)\n",
        "print(kota_besar)"
      ],
      "metadata": {
        "colab": {
          "base_uri": "https://localhost:8080/"
        },
        "id": "CAe0bt7Q-_gE",
        "outputId": "aa3964c0-4588-4d50-a080-3bb0da285d99"
      },
      "execution_count": 61,
      "outputs": [
        {
          "output_type": "stream",
          "name": "stdout",
          "text": [
            "jakarta\n",
            "JAKARTA\n"
          ]
        }
      ]
    },
    {
      "cell_type": "code",
      "source": [
        "# mengganti sebagian string\n",
        "kalimat = 'naruto dan sasuke pergi melawan madara'\n",
        "kalimat.replace('dan', 'bersama')"
      ],
      "metadata": {
        "colab": {
          "base_uri": "https://localhost:8080/",
          "height": 36
        },
        "id": "iswwYhVh_kd0",
        "outputId": "3b5c8d0d-e102-4ce5-c7e4-afbc619713c0"
      },
      "execution_count": 62,
      "outputs": [
        {
          "output_type": "execute_result",
          "data": {
            "text/plain": [
              "'naruto bersama sasuke pergi melawan madara'"
            ],
            "application/vnd.google.colaboratory.intrinsic+json": {
              "type": "string"
            }
          },
          "metadata": {},
          "execution_count": 62
        }
      ]
    },
    {
      "cell_type": "code",
      "source": [
        "# case\n",
        "no_telp = '0821-1111-2222'\n",
        "no_telp.replace('-', '')"
      ],
      "metadata": {
        "colab": {
          "base_uri": "https://localhost:8080/",
          "height": 36
        },
        "id": "6dXi1WWA_4hI",
        "outputId": "4d553f06-ec81-4e85-c92d-933052090152"
      },
      "execution_count": 63,
      "outputs": [
        {
          "output_type": "execute_result",
          "data": {
            "text/plain": [
              "'082111112222'"
            ],
            "application/vnd.google.colaboratory.intrinsic+json": {
              "type": "string"
            }
          },
          "metadata": {},
          "execution_count": 63
        }
      ]
    },
    {
      "cell_type": "markdown",
      "source": [
        "#### Excercise"
      ],
      "metadata": {
        "id": "YGClh2_3AKjv"
      }
    },
    {
      "cell_type": "code",
      "source": [
        "# 3 variabel penjualan\n",
        "penjualan_1 = '5,000'\n",
        "penjualan_2 = '3,200'\n",
        "penjualan_3 = '1,300'\n",
        "\n",
        "# bersihkan data dan hitung jumlah penjualan\n",
        "total = int(penjualan_1.replace(',', '')) + int(penjualan_2.replace(',', '')) + int(penjualan_3.replace(',', ''))\n",
        "print(total)"
      ],
      "metadata": {
        "colab": {
          "base_uri": "https://localhost:8080/"
        },
        "id": "z94uW55mAEbs",
        "outputId": "db1ab1a7-4a89-460f-ab62-d8172c57a1a3"
      },
      "execution_count": 65,
      "outputs": [
        {
          "output_type": "stream",
          "name": "stdout",
          "text": [
            "9500\n"
          ]
        }
      ]
    },
    {
      "cell_type": "code",
      "source": [],
      "metadata": {
        "id": "cVcBqYZQBCeu"
      },
      "execution_count": null,
      "outputs": []
    }
  ]
}